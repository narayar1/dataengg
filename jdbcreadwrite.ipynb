{
 "cells": [
  {
   "cell_type": "code",
   "execution_count": 1,
   "metadata": {},
   "outputs": [],
   "source": [
    "import findspark\n",
    "findspark.init()\n",
    "findspark.add_packages('mysql:mysql-connector-java:8.0.11')"
   ]
  },
  {
   "cell_type": "code",
   "execution_count": 2,
   "metadata": {},
   "outputs": [],
   "source": [
    "from pyspark.sql.types import StringType"
   ]
  },
  {
   "cell_type": "code",
   "execution_count": 3,
   "metadata": {},
   "outputs": [],
   "source": [
    "from pyspark.sql import SparkSession"
   ]
  },
  {
   "cell_type": "code",
   "execution_count": 4,
   "metadata": {},
   "outputs": [],
   "source": [
    "spark = SparkSession.builder.appName(\"writemysql\") \\\n",
    ".config(\"spark.jars.packages\", \"org.apache.hadoop:hadoop-aws:2.7.0\") \\\n",
    "    .config(\"spark.jars.packages\", \"mysql:mysql-connector-java:8.0.17\") \\\n",
    ".getOrCreate()"
   ]
  },
  {
   "cell_type": "code",
   "execution_count": 5,
   "metadata": {},
   "outputs": [],
   "source": [
    "import mysql.connector"
   ]
  },
  {
   "cell_type": "code",
   "execution_count": 6,
   "metadata": {},
   "outputs": [],
   "source": [
    "conn = mysql.connector.connect(user = 'root', database='dataengg',\n",
    "                               password='admin',\n",
    "                               host=\"127.0.0.1\",\n",
    "                               )"
   ]
  },
  {
   "cell_type": "code",
   "execution_count": 6,
   "metadata": {},
   "outputs": [],
   "source": [
    "# cursor = conn.cursor()"
   ]
  },
  {
   "cell_type": "code",
   "execution_count": 7,
   "metadata": {},
   "outputs": [],
   "source": [
    "# sqlquery1 = \"drop table if exists persontransformed\""
   ]
  },
  {
   "cell_type": "code",
   "execution_count": 8,
   "metadata": {},
   "outputs": [],
   "source": [
    "# cursor.execute(sqlquery1)"
   ]
  },
  {
   "cell_type": "code",
   "execution_count": 9,
   "metadata": {},
   "outputs": [],
   "source": [
    "# conn.close()"
   ]
  },
  {
   "cell_type": "code",
   "execution_count": 7,
   "metadata": {},
   "outputs": [],
   "source": [
    "personrawdf = spark.read \\\n",
    "        .format(\"jdbc\") \\\n",
    "        .option(\"driver\",\"com.mysql.cj.jdbc.Driver\") \\\n",
    "        .option(\"url\", \"jdbc:mysql://localhost:3306/dataengg\") \\\n",
    "        .option(\"dbtable\", \"dataengg.personraw\") \\\n",
    "        .option(\"user\", \"root\") \\\n",
    "        .option(\"password\", \"admin\")  \\\n",
    "        .load()\n",
    "        "
   ]
  },
  {
   "cell_type": "code",
   "execution_count": 8,
   "metadata": {},
   "outputs": [
    {
     "name": "stdout",
     "output_type": "stream",
     "text": [
      "+---+--------------+---+------+----+-----------+-------------------+\n",
      "| id|          name|age|gender|rank|active_flag|           currtime|\n",
      "+---+--------------+---+------+----+-----------+-------------------+\n",
      "|  1| Roger Federer| 38|     M|   1|          Y|2023-01-07 19:03:53|\n",
      "|  2|  Rafael Nadal| 34|     M|   2|          Y|2023-01-07 19:03:53|\n",
      "|  3|Novak Djokovic| 32|     M|   3|          Y|2023-01-07 19:03:53|\n",
      "|  4|   Andy Murray| 31|     M|   4|          Y|2023-01-07 19:03:53|\n",
      "|  5|   Mario Cilic| 30|     M|   5|          Y|2023-01-07 19:03:53|\n",
      "|  6|Carlos Alcaraz| 19|     M|   6|          Y|2023-01-09 20:08:59|\n",
      "|  7|   Casper Rudd| 24|     M|   7|          Y|2023-01-09 20:08:59|\n",
      "+---+--------------+---+------+----+-----------+-------------------+\n",
      "\n"
     ]
    }
   ],
   "source": [
    "personrawdf.show()"
   ]
  },
  {
   "cell_type": "code",
   "execution_count": 9,
   "metadata": {},
   "outputs": [],
   "source": [
    "persontransformeddf = spark.read \\\n",
    "        .format(\"jdbc\") \\\n",
    "        .option(\"driver\",\"com.mysql.cj.jdbc.Driver\") \\\n",
    "        .option(\"url\", \"jdbc:mysql://localhost:3306/dataengg\") \\\n",
    "        .option(\"dbtable\", \"dataengg.persontransformed\") \\\n",
    "        .option(\"user\", \"root\") \\\n",
    "        .option(\"password\", \"admin\")  \\\n",
    "        .load()"
   ]
  },
  {
   "cell_type": "code",
   "execution_count": 10,
   "metadata": {},
   "outputs": [
    {
     "name": "stdout",
     "output_type": "stream",
     "text": [
      "+---+--------------+---+------+----+-----------+-------------------+\n",
      "| id|          name|age|gender|rank|active_flag|           currtime|\n",
      "+---+--------------+---+------+----+-----------+-------------------+\n",
      "|  1| Roger Federer| 38|     M|   1|          Y|2023-01-07 19:03:53|\n",
      "|  2|  Rafael Nadal| 34|     M|   2|          Y|2023-01-07 19:03:53|\n",
      "|  3|Novak Djokovic| 32|     M|   3|          Y|2023-01-07 19:03:53|\n",
      "|  4|   Andy Murray| 31|     M|   4|          Y|2023-01-07 19:03:53|\n",
      "|  5|   Mario Cilic| 30|     M|   5|          Y|2023-01-07 19:03:53|\n",
      "+---+--------------+---+------+----+-----------+-------------------+\n",
      "\n"
     ]
    }
   ],
   "source": [
    "persontransformeddf.show()"
   ]
  },
  {
   "cell_type": "code",
   "execution_count": 19,
   "metadata": {},
   "outputs": [
    {
     "name": "stdout",
     "output_type": "stream",
     "text": [
      "+-------------------+\n",
      "|      max(currtime)|\n",
      "+-------------------+\n",
      "|2023-01-07 19:03:53|\n",
      "+-------------------+\n",
      "\n"
     ]
    },
    {
     "data": {
      "text/plain": [
       "'2023-01-07 19:03:53'"
      ]
     },
     "execution_count": 19,
     "metadata": {},
     "output_type": "execute_result"
    }
   ],
   "source": [
    "#select(*) during initial load\n",
    "#persontransformeddf = personrawdf.select(\"*\")\n",
    "# persontransformeddf = personrawdf.filter(personrawdf.select(['currtime']) > personrawdf.agg({'currtime': 'max'}))\n",
    "lastingestedtimedf = persontransformeddf.agg({'currtime': 'max'})\n",
    "lastingestedtimedf.show()\n",
    "# lastingestedtimestr = str(lastingestedtime)\n",
    "strlastingested = str(lastingestedtimedf.first()['max(currtime)'])\n",
    "strlastingested"
   ]
  },
  {
   "cell_type": "code",
   "execution_count": 65,
   "metadata": {},
   "outputs": [
    {
     "name": "stdout",
     "output_type": "stream",
     "text": [
      "+-------------------+\n",
      "|      max(currtime)|\n",
      "+-------------------+\n",
      "|2023-01-07 19:03:53|\n",
      "+-------------------+\n",
      "\n"
     ]
    }
   ],
   "source": [
    "lastingestedtime.show()"
   ]
  },
  {
   "cell_type": "code",
   "execution_count": 13,
   "metadata": {},
   "outputs": [
    {
     "name": "stdout",
     "output_type": "stream",
     "text": [
      "+-------------------+\n",
      "|           currtime|\n",
      "+-------------------+\n",
      "|2023-01-07 19:03:53|\n",
      "|2023-01-07 19:03:53|\n",
      "|2023-01-07 19:03:53|\n",
      "|2023-01-07 19:03:53|\n",
      "|2023-01-07 19:03:53|\n",
      "+-------------------+\n",
      "\n"
     ]
    }
   ],
   "source": [
    "persontransformeddf.select(['currtime']).show()"
   ]
  },
  {
   "cell_type": "code",
   "execution_count": 20,
   "metadata": {},
   "outputs": [],
   "source": [
    "persontransformeddf = personrawdf.filter(personrawdf['currtime'] > strlastingested)"
   ]
  },
  {
   "cell_type": "code",
   "execution_count": 24,
   "metadata": {},
   "outputs": [
    {
     "name": "stdout",
     "output_type": "stream",
     "text": [
      "+---+--------------+---+------+----+-----------+-------------------+\n",
      "| id|          name|age|gender|rank|active_flag|           currtime|\n",
      "+---+--------------+---+------+----+-----------+-------------------+\n",
      "|  6|Carlos Alcaraz| 19|     M|   6|          Y|2023-01-09 20:08:59|\n",
      "|  7|   Casper Rudd| 24|     M|   7|          Y|2023-01-09 20:08:59|\n",
      "+---+--------------+---+------+----+-----------+-------------------+\n",
      "\n"
     ]
    }
   ],
   "source": [
    "persontransformeddf.show()"
   ]
  },
  {
   "cell_type": "code",
   "execution_count": 31,
   "metadata": {},
   "outputs": [],
   "source": [
    "persontransformeddf.write.mode(\"append\") \\\n",
    ".format(\"jdbc\") \\\n",
    ".options(driver = \"com.mysql.cj.jdbc.Driver\",user =\"root\",password = \"admin\",dbtable= \"persontransformed\",url = \"jdbc:mysql://localhost:3306/dataengg\") \\\n",
    ".save()"
   ]
  },
  {
   "cell_type": "code",
   "execution_count": 30,
   "metadata": {},
   "outputs": [
    {
     "data": {
      "text/plain": [
       "<pyspark.sql.readwriter.DataFrameWriter at 0x1ee8ae9ec88>"
      ]
     },
     "execution_count": 30,
     "metadata": {},
     "output_type": "execute_result"
    }
   ],
   "source": [
    "#one time write to target table\n",
    "# persontransformeddf.write \\\n",
    "# .format(\"jdbc\") \\\n",
    "# .option(\"driver\",\"com.mysql.cj.jdbc.Driver\") \\\n",
    "# .option(\"url\", \"jdbc:mysql://localhost:3306/dataengg\") \\\n",
    "# .option(\"dbtable\", \"persontransformed\") \\\n",
    "# .option(\"user\", \"root\") \\\n",
    "# .option(\"password\", \"admin\") \\\n",
    "# .option(\"mode\",\"append\") \n",
    "# # .save()"
   ]
  },
  {
   "cell_type": "code",
   "execution_count": null,
   "metadata": {},
   "outputs": [],
   "source": [
    "#one time write to target table\n",
    "lastingestedtimestr.write \\\n",
    ".format(\"jdbc\") \\\n",
    ".option(\"driver\",\"com.mysql.cj.jdbc.Driver\") \\\n",
    ".option(\"url\", \"jdbc:mysql://localhost:3306/dataengg\") \\\n",
    ".option(\"dbtable\", \"lastingesteddate\") \\\n",
    ".option(\"user\", \"root\") \\\n",
    ".option(\"password\", \"admin\") \\\n",
    ".save()"
   ]
  }
 ],
 "metadata": {
  "kernelspec": {
   "display_name": "Python 3",
   "language": "python",
   "name": "python3"
  },
  "language_info": {
   "codemirror_mode": {
    "name": "ipython",
    "version": 3
   },
   "file_extension": ".py",
   "mimetype": "text/x-python",
   "name": "python",
   "nbconvert_exporter": "python",
   "pygments_lexer": "ipython3",
   "version": "3.7.1"
  }
 },
 "nbformat": 4,
 "nbformat_minor": 2
}
